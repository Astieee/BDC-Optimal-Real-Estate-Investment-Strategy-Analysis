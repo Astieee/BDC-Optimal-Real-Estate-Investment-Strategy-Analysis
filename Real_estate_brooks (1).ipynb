{
  "cells": [
    {
      "cell_type": "code",
      "execution_count": null,
      "metadata": {
        "id": "G004pZj1XA_0",
        "outputId": "29dfad23-f03c-4dbc-fb17-732ead037763",
        "colab": {
          "base_uri": "https://localhost:8080/"
        }
      },
      "outputs": [
        {
          "output_type": "stream",
          "name": "stdout",
          "text": [
            "\u001b[2K     \u001b[90m━━━━━━━━━━━━━━━━━━━━━━━━━━━━━━━━━━━━━━━━\u001b[0m \u001b[32m5.6/5.6 MB\u001b[0m \u001b[31m15.8 MB/s\u001b[0m eta \u001b[36m0:00:00\u001b[0m\n",
            "\u001b[?25h"
          ]
        }
      ],
      "source": [
        "!pip install -q amplpy ampltools pandas"
      ]
    },
    {
      "cell_type": "code",
      "execution_count": null,
      "metadata": {
        "id": "bY6nMq3DXIQ9",
        "colab": {
          "base_uri": "https://localhost:8080/"
        },
        "outputId": "b077234e-82ba-4f60-f0f3-e298b6295ecf"
      },
      "outputs": [
        {
          "output_type": "stream",
          "name": "stdout",
          "text": [
            "Licensed to Bundle #6300.6669 expiring 20231231: INFO 645 Prescriptive Analytics, Prof. Paul Brooks, Virginia Commonwealth University.\n"
          ]
        }
      ],
      "source": [
        "# Google Colab & AMPL integration\n",
        "\n",
        "MODULES, LICENSE_UUID = [\"coin\", 'gurobi', \"cplex\", \"highs\", \"gokestrel\"], \"6b31af08-ff1f-429f-ad0b-4bb913b68f75\"\n",
        "\n",
        "from amplpy import tools\n",
        "from ampltools import cloud_platform_name, ampl_notebook, register_magics\n",
        "\n",
        "# instantiate AMPL object and register magics\n",
        "if cloud_platform_name() is None:\n",
        "    ampl = AMPL() # Use local installation of AMPL\n",
        "else:\n",
        "    ampl = tools.ampl_notebook(modules=MODULES, license_uuid=LICENSE_UUID, g=globals())\n",
        "\n",
        "register_magics(ampl_object=ampl)"
      ]
    },
    {
      "cell_type": "code",
      "source": [
        "# Now set the data in AMPL\n",
        "PROJECTS = [1, 2, 3, 4, 5, 6]\n",
        "NPV = {1: 15, 2: 5, 3: 13, 4: 14, 5: 20, 6: 9}\n",
        "Expenditure = {1: 90, 2: 34, 3: 81, 4: 70, 5: 114, 6: 50}\n",
        "Budget = 220"
      ],
      "metadata": {
        "id": "F8xel-Ev7PeO"
      },
      "execution_count": null,
      "outputs": []
    },
    {
      "cell_type": "code",
      "source": [
        "ampl.eval ('''\n",
        "\n",
        "reset;\n",
        "\n",
        "set PROJECTS;\n",
        "\n",
        "param NPV {i in PROJECTS};\n",
        "\n",
        "param Expenditure {i in PROJECTS};\n",
        "\n",
        "param Budget;\n",
        "\n",
        "# Decision variables\n",
        "var x {i in PROJECTS} binary;\n",
        "\n",
        "# Objective\n",
        "maximize Total_NPV:\n",
        "    sum {i in PROJECTS} (NPV[i]* x[i]);\n",
        "\n",
        "# Constraints\n",
        "subject to Constraint_Budget:\n",
        "    sum {i in PROJECTS} (Expenditure[i]*x[i]) <= Budget;\n",
        "\n",
        "subject to Two_of_1356 {i in {1,3,5,6}}:\n",
        "    x[1] + x[3] + x[5] + x[6] >= 2;\n",
        "\n",
        "subject to ThreeFive:\n",
        "    x[3] = x[5];\n",
        "\n",
        "subject to Four_Req_Three:\n",
        "    x[4]<= x[3];\n",
        "\n",
        "subject to Four_Req_One:\n",
        "    x[4]<= x[1];\n",
        "\n",
        "''')"
      ],
      "metadata": {
        "id": "54pd7vXF7c9x"
      },
      "execution_count": null,
      "outputs": []
    },
    {
      "cell_type": "code",
      "source": [
        "ampl.set['PROJECTS'] = PROJECTS\n",
        "\n",
        "\n",
        "ampl.param[\"NPV\"] = NPV\n",
        "ampl.param[\"Expenditure\"] = Expenditure\n",
        "ampl.param[\"Budget\"] = Budget\n"
      ],
      "metadata": {
        "id": "1WKzxSv_ATxS"
      },
      "execution_count": null,
      "outputs": []
    },
    {
      "cell_type": "code",
      "source": [
        "ampl.setOption('solver', 'cbc')\n",
        "ampl.solve()"
      ],
      "metadata": {
        "colab": {
          "base_uri": "https://localhost:8080/"
        },
        "id": "RH-K7A1OAwGS",
        "outputId": "fac01168-7f10-4630-bec3-5ddbdfd338af"
      },
      "execution_count": null,
      "outputs": [
        {
          "output_type": "stream",
          "name": "stdout",
          "text": [
            "cbc 2.10.10: \b\b\b\b\b\b\b\b\b\b\b\b\bcbc 2.10.10: optimal solution; objective 33\n",
            "0 simplex iterations\n",
            " \n"
          ]
        }
      ]
    },
    {
      "cell_type": "code",
      "source": [
        "ampl.eval('''expand;''')"
      ],
      "metadata": {
        "colab": {
          "base_uri": "https://localhost:8080/"
        },
        "id": "D7yb6t45AzWA",
        "outputId": "faf922b7-b676-46f2-d141-149ffab3f837"
      },
      "execution_count": null,
      "outputs": [
        {
          "output_type": "stream",
          "name": "stdout",
          "text": [
            "maximize Total_NPV:\n",
            "\t15*x[1] + 5*x[2] + 13*x[3] + 14*x[4] + 20*x[5] + 9*x[6];\n",
            "\n",
            "subject to Constraint_Budget:\n",
            "\t90*x[1] + 34*x[2] + 81*x[3] + 70*x[4] + 114*x[5] + 50*x[6] <= 220;\n",
            "\n",
            "subject to Two_of_1356[1]:\n",
            "\tx[1] + x[3] + x[5] + x[6] >= 2;\n",
            "\n",
            "subject to Two_of_1356[3]:\n",
            "\tx[1] + x[3] + x[5] + x[6] >= 2;\n",
            "\n",
            "subject to Two_of_1356[5]:\n",
            "\tx[1] + x[3] + x[5] + x[6] >= 2;\n",
            "\n",
            "subject to Two_of_1356[6]:\n",
            "\tx[1] + x[3] + x[5] + x[6] >= 2;\n",
            "\n",
            "subject to ThreeFive:\n",
            "\tx[3] - x[5] = 0;\n",
            "\n",
            "subject to Four_Req_Three:\n",
            "\t-x[3] + x[4] <= 0;\n",
            "\n",
            "subject to Four_Req_One:\n",
            "\t-x[1] + x[4] <= 0;\n",
            "\n"
          ]
        }
      ]
    },
    {
      "cell_type": "code",
      "source": [
        "# Print results\n",
        "obj = ampl.get_objective('Total_NPV')\n",
        "print(\"\\n\")\n",
        "print(\"Total_NPV is: \", obj.get().value(), \"\\n\")\n",
        "print(\"Projects choosen:\")\n",
        "ampl.display('x');"
      ],
      "metadata": {
        "colab": {
          "base_uri": "https://localhost:8080/"
        },
        "id": "RIQ1rv3KA1KY",
        "outputId": "3e521c17-042d-4a42-8ea8-a3bb708ba2c4"
      },
      "execution_count": null,
      "outputs": [
        {
          "output_type": "stream",
          "name": "stdout",
          "text": [
            "\n",
            "\n",
            "Total_NPV is:  33.0 \n",
            "\n",
            "Projects choosen:\n",
            "x [*] :=\n",
            "1  0\n",
            "2  0\n",
            "3  1\n",
            "4  0\n",
            "5  1\n",
            "6  0\n",
            ";\n",
            "\n"
          ]
        }
      ]
    }
  ],
  "metadata": {
    "colab": {
      "provenance": []
    },
    "kernelspec": {
      "display_name": "Python 3 (ipykernel)",
      "language": "python",
      "name": "python3"
    },
    "language_info": {
      "codemirror_mode": {
        "name": "ipython",
        "version": 3
      },
      "file_extension": ".py",
      "mimetype": "text/x-python",
      "name": "python",
      "nbconvert_exporter": "python",
      "pygments_lexer": "ipython3",
      "version": "3.9.13"
    }
  },
  "nbformat": 4,
  "nbformat_minor": 0
}